{
 "cells": [
  {
   "cell_type": "markdown",
   "metadata": {},
   "source": [
    "# Common execution"
   ]
  },
  {
   "cell_type": "code",
   "execution_count": null,
   "metadata": {},
   "outputs": [],
   "source": [
    "# Create prop dict and inputs/outputs\n",
    "prop = {\n",
    "        \"threads\": 2,\n",
    "        \"database\": \"biobb_ahatool/test/data/ahatool/nr_test.fa\",\n",
    "        \"binary_path\": \"/home/albertcs/GitHub/EAPM/AHATool-container/AHATool.sh\",\n",
    "        \"remove_tmp\": False\n",
    "    }\n",
    "input_path = '../../test/data/ahatool/test.fa'\n",
    "output_path = 'output.zip'"
   ]
  },
  {
   "cell_type": "code",
   "execution_count": null,
   "metadata": {},
   "outputs": [],
   "source": [
    "# Import module\n",
    "from ahatool.ahatool import ahatool"
   ]
  },
  {
   "cell_type": "code",
   "execution_count": null,
   "metadata": {},
   "outputs": [],
   "source": [
    "# Create and launch bb\n",
    "ahatool(input_path=input_path,\n",
    "         output_path=output_path, \n",
    "         properties=prop)"
   ]
  },
  {
   "cell_type": "code",
   "execution_count": null,
   "metadata": {},
   "outputs": [],
   "source": [
    "# Show log\n",
    "!cat log.out"
   ]
  },
  {
   "cell_type": "code",
   "execution_count": null,
   "metadata": {},
   "outputs": [],
   "source": [
    "# Unzip output file\n",
    "!unzip output.zip"
   ]
  },
  {
   "cell_type": "code",
   "execution_count": null,
   "metadata": {},
   "outputs": [],
   "source": [
    "# List folder content\n",
    "!ls -la"
   ]
  }
 ],
 "metadata": {
  "kernelspec": {
   "display_name": "base",
   "language": "python",
   "name": "python3"
  },
  "language_info": {
   "codemirror_mode": {
    "name": "ipython",
    "version": 3
   },
   "file_extension": ".py",
   "mimetype": "text/x-python",
   "name": "python",
   "nbconvert_exporter": "python",
   "pygments_lexer": "ipython3",
   "version": "3.9.12 (main, Apr  5 2022, 06:56:58) \n[GCC 7.5.0]"
  },
  "vscode": {
   "interpreter": {
    "hash": "5122fd7648d60ee27fae66276a21fc9862a81b57cb914920348e14ff0715df3d"
   }
  }
 },
 "nbformat": 4,
 "nbformat_minor": 2
}
